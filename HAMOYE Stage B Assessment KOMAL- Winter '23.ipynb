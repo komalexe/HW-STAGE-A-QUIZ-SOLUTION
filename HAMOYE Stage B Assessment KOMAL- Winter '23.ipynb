{
 "cells": [
  {
   "cell_type": "markdown",
   "metadata": {},
   "source": [
    "# Importing Required Libraries"
   ]
  },
  {
   "cell_type": "code",
   "execution_count": 1,
   "metadata": {},
   "outputs": [],
   "source": [
    "import pandas as pd\n",
    "import numpy as np\n",
    "import seaborn as sb\n",
    "import matplotlib.pyplot as plt\n",
    "\n",
    "from sklearn.preprocessing import MinMaxScaler\n",
    "from sklearn.model_selection import train_test_split\n",
    "from sklearn.linear_model import LinearRegression, Ridge, Lasso\n",
    "\n",
    "from sklearn.metrics import mean_absolute_error, mean_squared_error, r2_score\n"
   ]
  },
  {
   "cell_type": "code",
   "execution_count": 2,
   "metadata": {},
   "outputs": [
    {
     "data": {
      "text/html": [
       "<div>\n",
       "<style scoped>\n",
       "    .dataframe tbody tr th:only-of-type {\n",
       "        vertical-align: middle;\n",
       "    }\n",
       "\n",
       "    .dataframe tbody tr th {\n",
       "        vertical-align: top;\n",
       "    }\n",
       "\n",
       "    .dataframe thead th {\n",
       "        text-align: right;\n",
       "    }\n",
       "</style>\n",
       "<table border=\"1\" class=\"dataframe\">\n",
       "  <thead>\n",
       "    <tr style=\"text-align: right;\">\n",
       "      <th></th>\n",
       "      <th>date</th>\n",
       "      <th>Appliances</th>\n",
       "      <th>lights</th>\n",
       "      <th>T1</th>\n",
       "      <th>RH_1</th>\n",
       "      <th>T2</th>\n",
       "      <th>RH_2</th>\n",
       "      <th>T3</th>\n",
       "      <th>RH_3</th>\n",
       "      <th>T4</th>\n",
       "      <th>...</th>\n",
       "      <th>T9</th>\n",
       "      <th>RH_9</th>\n",
       "      <th>T_out</th>\n",
       "      <th>Press_mm_hg</th>\n",
       "      <th>RH_out</th>\n",
       "      <th>Windspeed</th>\n",
       "      <th>Visibility</th>\n",
       "      <th>Tdewpoint</th>\n",
       "      <th>rv1</th>\n",
       "      <th>rv2</th>\n",
       "    </tr>\n",
       "  </thead>\n",
       "  <tbody>\n",
       "    <tr>\n",
       "      <th>0</th>\n",
       "      <td>2016-01-11 17:00:00</td>\n",
       "      <td>60</td>\n",
       "      <td>30</td>\n",
       "      <td>19.89</td>\n",
       "      <td>47.596667</td>\n",
       "      <td>19.2</td>\n",
       "      <td>44.790000</td>\n",
       "      <td>19.79</td>\n",
       "      <td>44.730000</td>\n",
       "      <td>19.000000</td>\n",
       "      <td>...</td>\n",
       "      <td>17.033333</td>\n",
       "      <td>45.53</td>\n",
       "      <td>6.600000</td>\n",
       "      <td>733.5</td>\n",
       "      <td>92.0</td>\n",
       "      <td>7.000000</td>\n",
       "      <td>63.000000</td>\n",
       "      <td>5.3</td>\n",
       "      <td>13.275433</td>\n",
       "      <td>13.275433</td>\n",
       "    </tr>\n",
       "    <tr>\n",
       "      <th>1</th>\n",
       "      <td>2016-01-11 17:10:00</td>\n",
       "      <td>60</td>\n",
       "      <td>30</td>\n",
       "      <td>19.89</td>\n",
       "      <td>46.693333</td>\n",
       "      <td>19.2</td>\n",
       "      <td>44.722500</td>\n",
       "      <td>19.79</td>\n",
       "      <td>44.790000</td>\n",
       "      <td>19.000000</td>\n",
       "      <td>...</td>\n",
       "      <td>17.066667</td>\n",
       "      <td>45.56</td>\n",
       "      <td>6.483333</td>\n",
       "      <td>733.6</td>\n",
       "      <td>92.0</td>\n",
       "      <td>6.666667</td>\n",
       "      <td>59.166667</td>\n",
       "      <td>5.2</td>\n",
       "      <td>18.606195</td>\n",
       "      <td>18.606195</td>\n",
       "    </tr>\n",
       "    <tr>\n",
       "      <th>2</th>\n",
       "      <td>2016-01-11 17:20:00</td>\n",
       "      <td>50</td>\n",
       "      <td>30</td>\n",
       "      <td>19.89</td>\n",
       "      <td>46.300000</td>\n",
       "      <td>19.2</td>\n",
       "      <td>44.626667</td>\n",
       "      <td>19.79</td>\n",
       "      <td>44.933333</td>\n",
       "      <td>18.926667</td>\n",
       "      <td>...</td>\n",
       "      <td>17.000000</td>\n",
       "      <td>45.50</td>\n",
       "      <td>6.366667</td>\n",
       "      <td>733.7</td>\n",
       "      <td>92.0</td>\n",
       "      <td>6.333333</td>\n",
       "      <td>55.333333</td>\n",
       "      <td>5.1</td>\n",
       "      <td>28.642668</td>\n",
       "      <td>28.642668</td>\n",
       "    </tr>\n",
       "    <tr>\n",
       "      <th>3</th>\n",
       "      <td>2016-01-11 17:30:00</td>\n",
       "      <td>50</td>\n",
       "      <td>40</td>\n",
       "      <td>19.89</td>\n",
       "      <td>46.066667</td>\n",
       "      <td>19.2</td>\n",
       "      <td>44.590000</td>\n",
       "      <td>19.79</td>\n",
       "      <td>45.000000</td>\n",
       "      <td>18.890000</td>\n",
       "      <td>...</td>\n",
       "      <td>17.000000</td>\n",
       "      <td>45.40</td>\n",
       "      <td>6.250000</td>\n",
       "      <td>733.8</td>\n",
       "      <td>92.0</td>\n",
       "      <td>6.000000</td>\n",
       "      <td>51.500000</td>\n",
       "      <td>5.0</td>\n",
       "      <td>45.410389</td>\n",
       "      <td>45.410389</td>\n",
       "    </tr>\n",
       "    <tr>\n",
       "      <th>4</th>\n",
       "      <td>2016-01-11 17:40:00</td>\n",
       "      <td>60</td>\n",
       "      <td>40</td>\n",
       "      <td>19.89</td>\n",
       "      <td>46.333333</td>\n",
       "      <td>19.2</td>\n",
       "      <td>44.530000</td>\n",
       "      <td>19.79</td>\n",
       "      <td>45.000000</td>\n",
       "      <td>18.890000</td>\n",
       "      <td>...</td>\n",
       "      <td>17.000000</td>\n",
       "      <td>45.40</td>\n",
       "      <td>6.133333</td>\n",
       "      <td>733.9</td>\n",
       "      <td>92.0</td>\n",
       "      <td>5.666667</td>\n",
       "      <td>47.666667</td>\n",
       "      <td>4.9</td>\n",
       "      <td>10.084097</td>\n",
       "      <td>10.084097</td>\n",
       "    </tr>\n",
       "  </tbody>\n",
       "</table>\n",
       "<p>5 rows × 29 columns</p>\n",
       "</div>"
      ],
      "text/plain": [
       "                  date  Appliances  lights     T1       RH_1    T2       RH_2  \\\n",
       "0  2016-01-11 17:00:00          60      30  19.89  47.596667  19.2  44.790000   \n",
       "1  2016-01-11 17:10:00          60      30  19.89  46.693333  19.2  44.722500   \n",
       "2  2016-01-11 17:20:00          50      30  19.89  46.300000  19.2  44.626667   \n",
       "3  2016-01-11 17:30:00          50      40  19.89  46.066667  19.2  44.590000   \n",
       "4  2016-01-11 17:40:00          60      40  19.89  46.333333  19.2  44.530000   \n",
       "\n",
       "      T3       RH_3         T4  ...         T9   RH_9     T_out  Press_mm_hg  \\\n",
       "0  19.79  44.730000  19.000000  ...  17.033333  45.53  6.600000        733.5   \n",
       "1  19.79  44.790000  19.000000  ...  17.066667  45.56  6.483333        733.6   \n",
       "2  19.79  44.933333  18.926667  ...  17.000000  45.50  6.366667        733.7   \n",
       "3  19.79  45.000000  18.890000  ...  17.000000  45.40  6.250000        733.8   \n",
       "4  19.79  45.000000  18.890000  ...  17.000000  45.40  6.133333        733.9   \n",
       "\n",
       "   RH_out  Windspeed  Visibility  Tdewpoint        rv1        rv2  \n",
       "0    92.0   7.000000   63.000000        5.3  13.275433  13.275433  \n",
       "1    92.0   6.666667   59.166667        5.2  18.606195  18.606195  \n",
       "2    92.0   6.333333   55.333333        5.1  28.642668  28.642668  \n",
       "3    92.0   6.000000   51.500000        5.0  45.410389  45.410389  \n",
       "4    92.0   5.666667   47.666667        4.9  10.084097  10.084097  \n",
       "\n",
       "[5 rows x 29 columns]"
      ]
     },
     "execution_count": 2,
     "metadata": {},
     "output_type": "execute_result"
    }
   ],
   "source": [
    "# Loading data\n",
    "energy = pd.read_csv('energydata_complete.csv')\n",
    "# Preview\n",
    "energy.head()"
   ]
  },
  {
   "cell_type": "code",
   "execution_count": 3,
   "metadata": {},
   "outputs": [
    {
     "name": "stdout",
     "output_type": "stream",
     "text": [
      "<class 'pandas.core.frame.DataFrame'>\n",
      "RangeIndex: 19735 entries, 0 to 19734\n",
      "Data columns (total 29 columns):\n",
      " #   Column       Non-Null Count  Dtype  \n",
      "---  ------       --------------  -----  \n",
      " 0   date         19735 non-null  object \n",
      " 1   Appliances   19735 non-null  int64  \n",
      " 2   lights       19735 non-null  int64  \n",
      " 3   T1           19735 non-null  float64\n",
      " 4   RH_1         19735 non-null  float64\n",
      " 5   T2           19735 non-null  float64\n",
      " 6   RH_2         19735 non-null  float64\n",
      " 7   T3           19735 non-null  float64\n",
      " 8   RH_3         19735 non-null  float64\n",
      " 9   T4           19735 non-null  float64\n",
      " 10  RH_4         19735 non-null  float64\n",
      " 11  T5           19735 non-null  float64\n",
      " 12  RH_5         19735 non-null  float64\n",
      " 13  T6           19735 non-null  float64\n",
      " 14  RH_6         19735 non-null  float64\n",
      " 15  T7           19735 non-null  float64\n",
      " 16  RH_7         19735 non-null  float64\n",
      " 17  T8           19735 non-null  float64\n",
      " 18  RH_8         19735 non-null  float64\n",
      " 19  T9           19735 non-null  float64\n",
      " 20  RH_9         19735 non-null  float64\n",
      " 21  T_out        19735 non-null  float64\n",
      " 22  Press_mm_hg  19735 non-null  float64\n",
      " 23  RH_out       19735 non-null  float64\n",
      " 24  Windspeed    19735 non-null  float64\n",
      " 25  Visibility   19735 non-null  float64\n",
      " 26  Tdewpoint    19735 non-null  float64\n",
      " 27  rv1          19735 non-null  float64\n",
      " 28  rv2          19735 non-null  float64\n",
      "dtypes: float64(26), int64(2), object(1)\n",
      "memory usage: 4.4+ MB\n"
     ]
    }
   ],
   "source": [
    "# checking data information\n",
    "energy.info()"
   ]
  },
  {
   "cell_type": "code",
   "execution_count": 4,
   "metadata": {},
   "outputs": [
    {
     "data": {
      "text/plain": [
       "Index(['date', 'Appliances', 'lights', 'T1', 'RH_1', 'T2', 'RH_2', 'T3',\n",
       "       'RH_3', 'T4', 'RH_4', 'T5', 'RH_5', 'T6', 'RH_6', 'T7', 'RH_7', 'T8',\n",
       "       'RH_8', 'T9', 'RH_9', 'T_out', 'Press_mm_hg', 'RH_out', 'Windspeed',\n",
       "       'Visibility', 'Tdewpoint', 'rv1', 'rv2'],\n",
       "      dtype='object')"
      ]
     },
     "execution_count": 4,
     "metadata": {},
     "output_type": "execute_result"
    }
   ],
   "source": [
    "energy.columns"
   ]
  },
  {
   "cell_type": "code",
   "execution_count": 5,
   "metadata": {},
   "outputs": [
    {
     "data": {
      "text/plain": [
       "Appliances     1.000000\n",
       "lights         0.197278\n",
       "T1             0.055447\n",
       "RH_1           0.086031\n",
       "T2             0.120073\n",
       "RH_2          -0.060465\n",
       "T3             0.085060\n",
       "RH_3           0.036292\n",
       "T4             0.040281\n",
       "RH_4           0.016965\n",
       "T5             0.019760\n",
       "RH_5           0.006955\n",
       "T6             0.117638\n",
       "RH_6          -0.083178\n",
       "T7             0.025801\n",
       "RH_7          -0.055642\n",
       "T8             0.039572\n",
       "RH_8          -0.094039\n",
       "T9             0.010010\n",
       "RH_9          -0.051462\n",
       "T_out          0.099155\n",
       "Press_mm_hg   -0.034885\n",
       "RH_out        -0.152282\n",
       "Windspeed      0.087122\n",
       "Visibility     0.000230\n",
       "Tdewpoint      0.015353\n",
       "rv1           -0.011145\n",
       "rv2           -0.011145\n",
       "Name: Appliances, dtype: float64"
      ]
     },
     "execution_count": 5,
     "metadata": {},
     "output_type": "execute_result"
    }
   ],
   "source": [
    "# Checking correlation of features with appliances\n",
    "energy.corr()['Appliances']"
   ]
  },
  {
   "cell_type": "code",
   "execution_count": 6,
   "metadata": {},
   "outputs": [
    {
     "data": {
      "image/png": "[encoded data removed]",
      "text/plain": [
       "<Figure size 432x288 with 30 Axes>"
      ]
     },
     "metadata": {
      "needs_background": "light"
     },
     "output_type": "display_data"
    }
   ],
   "source": [
    "# Looking at outliers\n",
    "from matplotlib.pyplot import figure\n",
    "\n",
    "energy.plot(kind='box', subplots=True, layout=(6,5), sharex=False, sharey=False)\n",
    "plt.rcParams['figure.figsize'] = (50,52)\n",
    "plt.show()"
   ]
  },
  {
   "cell_type": "code",
   "execution_count": 7,
   "metadata": {},
   "outputs": [],
   "source": [
    "# Dropping date and light column\n",
    "energy.drop(columns=['date', 'lights'], inplace=True)"
   ]
  },
  {
   "cell_type": "code",
   "execution_count": 8,
   "metadata": {},
   "outputs": [],
   "source": [
    "# Rescalling data to be train on model\n",
    "scaler = MinMaxScaler()\n",
    "norm_data = scaler.fit_transform(energy)\n",
    "norm_df = pd.DataFrame(norm_data, columns=energy.columns)"
   ]
  },
  {
   "cell_type": "code",
   "execution_count": 9,
   "metadata": {},
   "outputs": [],
   "source": [
    "# Selcting dependent and independent variable for training model\n",
    "features = norm_df.drop('Appliances', axis=1)\n",
    "target = norm_df['Appliances']"
   ]
  },
  {
   "cell_type": "code",
   "execution_count": 10,
   "metadata": {},
   "outputs": [],
   "source": [
    "# Spltting data 70 - 30 with random state of 42\n",
    "x_train, x_test, y_train, y_test = train_test_split(features, target, test_size=0.3, random_state=42)"
   ]
  },
  {
   "cell_type": "markdown",
   "metadata": {},
   "source": [
    "### Simple Linear Regression"
   ]
  },
  {
   "cell_type": "markdown",
   "metadata": {},
   "source": [
    "Q12"
   ]
  },
  {
   "cell_type": "code",
   "execution_count": 11,
   "metadata": {},
   "outputs": [
    {
     "name": "stdout",
     "output_type": "stream",
     "text": [
      "0.08216970202681717 0.011166285957258448 66.11557915292727 0.10567064851347534 0.6427789637197381\n"
     ]
    }
   ],
   "source": [
    "# selecting features and target data. \n",
    "x = x_train[['T2']]\n",
    "y = x_train['T6']\n",
    "fea = x_test[['T2']]\n",
    "tar = x_test['T6']\n",
    "\n",
    "# Initializing model\n",
    "linreg = LinearRegression()\n",
    "# Fitting model\n",
    "linreg.fit(x, y)\n",
    "# making prediction\n",
    "pred = linreg.predict(fea)\n",
    "\n",
    "# Computing model performance\n",
    "mae = mean_absolute_error(tar, pred)\n",
    "mse = mean_squared_error(tar, pred)\n",
    "rss = np.sum(np.square(tar - pred))\n",
    "rmse = np.sqrt(mse)\n",
    "r_square = r2_score(tar, pred)\n",
    "\n",
    "print(mae, mse, rss, rmse, r_square)\n"
   ]
  },
  {
   "cell_type": "markdown",
   "metadata": {},
   "source": [
    "### Multiple Linear Regression"
   ]
  },
  {
   "cell_type": "markdown",
   "metadata": {},
   "source": [
    "Q13, Q14, Q15, Q16"
   ]
  },
  {
   "cell_type": "code",
   "execution_count": 12,
   "metadata": {},
   "outputs": [
    {
     "name": "stdout",
     "output_type": "stream",
     "text": [
      "0.050133623977429514 0.007658778867195367 45.34762967266377 0.0875144494766171 0.14890246319303535\n"
     ]
    }
   ],
   "source": [
    "# Initializing and training model\n",
    "linreg = LinearRegression()\n",
    "linreg.fit(x_train, y_train)\n",
    "# Making prediction\n",
    "pred = linreg.predict(x_test)\n",
    "\n",
    "# Computing model performance\n",
    "mae = mean_absolute_error(y_test, pred)\n",
    "rss = np.sum(np.square(pred - y_test))\n",
    "mse = mean_squared_error(y_test, pred)\n",
    "rmse = np.sqrt(mse)\n",
    "r_square = r2_score(y_test, pred)\n",
    "\n",
    "print(mae, mse, rss, rmse, r_square)"
   ]
  },
  {
   "cell_type": "markdown",
   "metadata": {},
   "source": [
    "### Regularization Method"
   ]
  },
  {
   "cell_type": "markdown",
   "metadata": {},
   "source": [
    "Q18"
   ]
  },
  {
   "cell_type": "code",
   "execution_count": 13,
   "metadata": {},
   "outputs": [
    {
     "name": "stdout",
     "output_type": "stream",
     "text": [
      "0.050087445840923846 0.007662176129398587 45.36774486216903 0.08753385704628003 0.14852493545092593\n"
     ]
    }
   ],
   "source": [
    "# Training a Ridge Regression model with alpha value of 0.4\n",
    "ridreg = Ridge(alpha=0.4)\n",
    "ridreg.fit(x_train, y_train)\n",
    "pred = ridreg.predict(x_test)\n",
    "\n",
    "# Evaluating model performance\n",
    "mae = mean_absolute_error(y_test, pred)\n",
    "mse = mean_squared_error(y_test, pred)\n",
    "rss = np.sum(np.square(y_test - pred))\n",
    "rmse = np.sqrt(mse)\n",
    "r_square = r2_score(y_test, pred)\n",
    "\n",
    "print(mae, mse, rss, rmse, r_square)"
   ]
  },
  {
   "cell_type": "markdown",
   "metadata": {},
   "source": [
    "Q19, Q20"
   ]
  },
  {
   "cell_type": "code",
   "execution_count": 14,
   "metadata": {},
   "outputs": [
    {
     "name": "stdout",
     "output_type": "stream",
     "text": [
      "0.055256639821262235 0.008757535449401907 51.85336739590869 0.09358170467245137 0.026800880567125818\n"
     ]
    }
   ],
   "source": [
    "# Training a Lasso Regression model with alpha value of 0.001\n",
    "lasreg = Lasso(alpha=0.001)\n",
    "lasreg.fit(x_train, y_train)\n",
    "pred = lasreg.predict(x_test)\n",
    "\n",
    "# Evaluating model performance\n",
    "mae = mean_absolute_error(y_test, pred)\n",
    "mse = mean_squared_error(y_test, pred)\n",
    "rss = np.sum(np.square(y_test - pred))\n",
    "rmse = np.sqrt(mse)\n",
    "r_square = r2_score(y_test, pred)\n",
    "\n",
    "print(mae, mse, rss, rmse, r_square)"
   ]
  },
  {
   "cell_type": "code",
   "execution_count": 15,
   "metadata": {},
   "outputs": [
    {
     "data": {
      "text/plain": [
       "array([-0.00328105,  0.5535466 , -0.23617792, -0.45669795,  0.29062714,\n",
       "        0.09604827,  0.028981  ,  0.02638578, -0.01565684,  0.01600579,\n",
       "        0.23642491,  0.03804865,  0.01031878, -0.04461364,  0.10199505,\n",
       "       -0.15759548, -0.18994077, -0.03980032, -0.32185967,  0.00683933,\n",
       "       -0.07767065,  0.02918313,  0.01230661,  0.11775773,  0.0007701 ,\n",
       "        0.0007701 ])"
      ]
     },
     "execution_count": 15,
     "metadata": {},
     "output_type": "execute_result"
    }
   ],
   "source": [
    "linreg.coef_"
   ]
  },
  {
   "cell_type": "code",
   "execution_count": 16,
   "metadata": {},
   "outputs": [
    {
     "data": {
      "text/plain": [
       "Index(['T1', 'RH_1', 'T2', 'RH_2', 'T3', 'RH_3', 'T4', 'RH_4', 'T5', 'RH_5',\n",
       "       'T6', 'RH_6', 'T7', 'RH_7', 'T8', 'RH_8', 'T9', 'RH_9', 'T_out',\n",
       "       'Press_mm_hg', 'RH_out', 'Windspeed', 'Visibility', 'Tdewpoint', 'rv1',\n",
       "       'rv2'],\n",
       "      dtype='object')"
      ]
     },
     "execution_count": 16,
     "metadata": {},
     "output_type": "execute_result"
    }
   ],
   "source": [
    "x_train.columns"
   ]
  },
  {
   "cell_type": "markdown",
   "metadata": {},
   "source": [
    "Q17"
   ]
  },
  {
   "cell_type": "code",
   "execution_count": 17,
   "metadata": {},
   "outputs": [
    {
     "data": {
      "text/plain": [
       "RH_2          -0.456698\n",
       "T_out         -0.321860\n",
       "T2            -0.236178\n",
       "T9            -0.189941\n",
       "RH_8          -0.157595\n",
       "RH_out        -0.077671\n",
       "RH_7          -0.044614\n",
       "RH_9          -0.039800\n",
       "T5            -0.015657\n",
       "T1            -0.003281\n",
       "rv1            0.000770\n",
       "rv2            0.000770\n",
       "Press_mm_hg    0.006839\n",
       "T7             0.010319\n",
       "Visibility     0.012307\n",
       "RH_5           0.016006\n",
       "RH_4           0.026386\n",
       "T4             0.028981\n",
       "Windspeed      0.029183\n",
       "RH_6           0.038049\n",
       "RH_3           0.096048\n",
       "T8             0.101995\n",
       "Tdewpoint      0.117758\n",
       "T6             0.236425\n",
       "T3             0.290627\n",
       "RH_1           0.553547\n",
       "dtype: float64"
      ]
     },
     "execution_count": 17,
     "metadata": {},
     "output_type": "execute_result"
    }
   ],
   "source": [
    "weights = pd.Series(linreg.coef_, x_train.columns).sort_values()\n",
    "weights"
   ]
  },
  {
   "cell_type": "code",
   "execution_count": 18,
   "metadata": {},
   "outputs": [
    {
     "data": {
      "text/plain": [
       "0    -0.457\n",
       "1    -0.322\n",
       "2    -0.236\n",
       "3    -0.190\n",
       "4    -0.158\n",
       "5    -0.078\n",
       "6    -0.045\n",
       "7    -0.040\n",
       "8    -0.016\n",
       "9    -0.003\n",
       "10    0.001\n",
       "11    0.001\n",
       "12    0.007\n",
       "13    0.010\n",
       "14    0.012\n",
       "15    0.016\n",
       "16    0.026\n",
       "17    0.029\n",
       "18    0.029\n",
       "19    0.038\n",
       "20    0.096\n",
       "21    0.102\n",
       "22    0.118\n",
       "23    0.236\n",
       "24    0.291\n",
       "25    0.554\n",
       "Name: Linear_model, dtype: float64"
      ]
     },
     "execution_count": 18,
     "metadata": {},
     "output_type": "execute_result"
    }
   ],
   "source": [
    "df = pd.DataFrame(weights).reset_index()\n",
    "df.columns = ['Features', 'Linear_model']\n",
    "df['Linear_model'].round(3)"
   ]
  },
  {
   "cell_type": "markdown",
   "metadata": {},
   "source": [
    "### Getting weight of feature performance in each model"
   ]
  },
  {
   "cell_type": "code",
   "execution_count": 19,
   "metadata": {},
   "outputs": [],
   "source": [
    "def get_weights(model, feature, col_name):\n",
    "    weights = pd.Series(model.coef_, feature.columns).sort_values()\n",
    "    weights_df = pd.DataFrame(weights).reset_index()\n",
    "    weights_df.columns = ['Features', col_name]\n",
    "    # weights_df[col_name] =  weights_df[col_name].round(3)\n",
    "    return weights_df"
   ]
  },
  {
   "cell_type": "code",
   "execution_count": 20,
   "metadata": {},
   "outputs": [],
   "source": [
    "linear_weight = get_weights(linreg, x_train, 'Linear_Model_Weight')\n",
    "ridge_weight = get_weights(ridreg, x_train, 'Ridge_Weight')\n",
    "lasso_weight = get_weights(lasreg, x_train, 'Lasso_Weight')"
   ]
  },
  {
   "cell_type": "markdown",
   "metadata": {},
   "source": [
    "Q19"
   ]
  },
  {
   "cell_type": "code",
   "execution_count": 21,
   "metadata": {},
   "outputs": [
    {
     "data": {
      "text/html": [
       "<div>\n",
       "<style scoped>\n",
       "    .dataframe tbody tr th:only-of-type {\n",
       "        vertical-align: middle;\n",
       "    }\n",
       "\n",
       "    .dataframe tbody tr th {\n",
       "        vertical-align: top;\n",
       "    }\n",
       "\n",
       "    .dataframe thead th {\n",
       "        text-align: right;\n",
       "    }\n",
       "</style>\n",
       "<table border=\"1\" class=\"dataframe\">\n",
       "  <thead>\n",
       "    <tr style=\"text-align: right;\">\n",
       "      <th></th>\n",
       "      <th>Features</th>\n",
       "      <th>Linear_Model_Weight</th>\n",
       "      <th>Ridge_Weight</th>\n",
       "      <th>Lasso_Weight</th>\n",
       "    </tr>\n",
       "  </thead>\n",
       "  <tbody>\n",
       "    <tr>\n",
       "      <th>0</th>\n",
       "      <td>RH_2</td>\n",
       "      <td>-0.456698</td>\n",
       "      <td>-0.411071</td>\n",
       "      <td>-0.000000</td>\n",
       "    </tr>\n",
       "    <tr>\n",
       "      <th>1</th>\n",
       "      <td>T_out</td>\n",
       "      <td>-0.321860</td>\n",
       "      <td>-0.262172</td>\n",
       "      <td>0.000000</td>\n",
       "    </tr>\n",
       "    <tr>\n",
       "      <th>2</th>\n",
       "      <td>T2</td>\n",
       "      <td>-0.236178</td>\n",
       "      <td>-0.201397</td>\n",
       "      <td>0.000000</td>\n",
       "    </tr>\n",
       "    <tr>\n",
       "      <th>3</th>\n",
       "      <td>T9</td>\n",
       "      <td>-0.189941</td>\n",
       "      <td>-0.188916</td>\n",
       "      <td>-0.000000</td>\n",
       "    </tr>\n",
       "    <tr>\n",
       "      <th>4</th>\n",
       "      <td>RH_8</td>\n",
       "      <td>-0.157595</td>\n",
       "      <td>-0.156830</td>\n",
       "      <td>-0.000110</td>\n",
       "    </tr>\n",
       "    <tr>\n",
       "      <th>5</th>\n",
       "      <td>RH_out</td>\n",
       "      <td>-0.077671</td>\n",
       "      <td>-0.054724</td>\n",
       "      <td>-0.049557</td>\n",
       "    </tr>\n",
       "    <tr>\n",
       "      <th>6</th>\n",
       "      <td>RH_7</td>\n",
       "      <td>-0.044614</td>\n",
       "      <td>-0.045977</td>\n",
       "      <td>-0.000000</td>\n",
       "    </tr>\n",
       "    <tr>\n",
       "      <th>7</th>\n",
       "      <td>RH_9</td>\n",
       "      <td>-0.039800</td>\n",
       "      <td>-0.041367</td>\n",
       "      <td>-0.000000</td>\n",
       "    </tr>\n",
       "    <tr>\n",
       "      <th>8</th>\n",
       "      <td>T5</td>\n",
       "      <td>-0.015657</td>\n",
       "      <td>-0.019853</td>\n",
       "      <td>-0.000000</td>\n",
       "    </tr>\n",
       "    <tr>\n",
       "      <th>9</th>\n",
       "      <td>T1</td>\n",
       "      <td>-0.003281</td>\n",
       "      <td>-0.018406</td>\n",
       "      <td>0.000000</td>\n",
       "    </tr>\n",
       "    <tr>\n",
       "      <th>10</th>\n",
       "      <td>rv1</td>\n",
       "      <td>0.000770</td>\n",
       "      <td>0.000748</td>\n",
       "      <td>-0.000000</td>\n",
       "    </tr>\n",
       "    <tr>\n",
       "      <th>11</th>\n",
       "      <td>rv2</td>\n",
       "      <td>0.000770</td>\n",
       "      <td>0.000748</td>\n",
       "      <td>-0.000000</td>\n",
       "    </tr>\n",
       "    <tr>\n",
       "      <th>12</th>\n",
       "      <td>Press_mm_hg</td>\n",
       "      <td>0.006839</td>\n",
       "      <td>0.006584</td>\n",
       "      <td>-0.000000</td>\n",
       "    </tr>\n",
       "    <tr>\n",
       "      <th>13</th>\n",
       "      <td>T7</td>\n",
       "      <td>0.010319</td>\n",
       "      <td>0.010098</td>\n",
       "      <td>-0.000000</td>\n",
       "    </tr>\n",
       "    <tr>\n",
       "      <th>14</th>\n",
       "      <td>Visibility</td>\n",
       "      <td>0.012307</td>\n",
       "      <td>0.012076</td>\n",
       "      <td>0.000000</td>\n",
       "    </tr>\n",
       "    <tr>\n",
       "      <th>15</th>\n",
       "      <td>RH_5</td>\n",
       "      <td>0.016006</td>\n",
       "      <td>0.016152</td>\n",
       "      <td>0.000000</td>\n",
       "    </tr>\n",
       "    <tr>\n",
       "      <th>16</th>\n",
       "      <td>RH_4</td>\n",
       "      <td>0.026386</td>\n",
       "      <td>0.024579</td>\n",
       "      <td>0.000000</td>\n",
       "    </tr>\n",
       "    <tr>\n",
       "      <th>17</th>\n",
       "      <td>T4</td>\n",
       "      <td>0.028981</td>\n",
       "      <td>0.027384</td>\n",
       "      <td>-0.000000</td>\n",
       "    </tr>\n",
       "    <tr>\n",
       "      <th>18</th>\n",
       "      <td>Windspeed</td>\n",
       "      <td>0.029183</td>\n",
       "      <td>0.030268</td>\n",
       "      <td>0.002912</td>\n",
       "    </tr>\n",
       "    <tr>\n",
       "      <th>19</th>\n",
       "      <td>RH_6</td>\n",
       "      <td>0.038049</td>\n",
       "      <td>0.035519</td>\n",
       "      <td>-0.000000</td>\n",
       "    </tr>\n",
       "    <tr>\n",
       "      <th>20</th>\n",
       "      <td>RH_3</td>\n",
       "      <td>0.096048</td>\n",
       "      <td>0.095135</td>\n",
       "      <td>0.000000</td>\n",
       "    </tr>\n",
       "    <tr>\n",
       "      <th>21</th>\n",
       "      <td>T8</td>\n",
       "      <td>0.101995</td>\n",
       "      <td>0.101028</td>\n",
       "      <td>0.000000</td>\n",
       "    </tr>\n",
       "    <tr>\n",
       "      <th>22</th>\n",
       "      <td>Tdewpoint</td>\n",
       "      <td>0.117758</td>\n",
       "      <td>0.083128</td>\n",
       "      <td>0.000000</td>\n",
       "    </tr>\n",
       "    <tr>\n",
       "      <th>23</th>\n",
       "      <td>T6</td>\n",
       "      <td>0.236425</td>\n",
       "      <td>0.217292</td>\n",
       "      <td>0.000000</td>\n",
       "    </tr>\n",
       "    <tr>\n",
       "      <th>24</th>\n",
       "      <td>T3</td>\n",
       "      <td>0.290627</td>\n",
       "      <td>0.288087</td>\n",
       "      <td>0.000000</td>\n",
       "    </tr>\n",
       "    <tr>\n",
       "      <th>25</th>\n",
       "      <td>RH_1</td>\n",
       "      <td>0.553547</td>\n",
       "      <td>0.519525</td>\n",
       "      <td>0.017880</td>\n",
       "    </tr>\n",
       "  </tbody>\n",
       "</table>\n",
       "</div>"
      ],
      "text/plain": [
       "       Features  Linear_Model_Weight  Ridge_Weight  Lasso_Weight\n",
       "0          RH_2            -0.456698     -0.411071     -0.000000\n",
       "1         T_out            -0.321860     -0.262172      0.000000\n",
       "2            T2            -0.236178     -0.201397      0.000000\n",
       "3            T9            -0.189941     -0.188916     -0.000000\n",
       "4          RH_8            -0.157595     -0.156830     -0.000110\n",
       "5        RH_out            -0.077671     -0.054724     -0.049557\n",
       "6          RH_7            -0.044614     -0.045977     -0.000000\n",
       "7          RH_9            -0.039800     -0.041367     -0.000000\n",
       "8            T5            -0.015657     -0.019853     -0.000000\n",
       "9            T1            -0.003281     -0.018406      0.000000\n",
       "10          rv1             0.000770      0.000748     -0.000000\n",
       "11          rv2             0.000770      0.000748     -0.000000\n",
       "12  Press_mm_hg             0.006839      0.006584     -0.000000\n",
       "13           T7             0.010319      0.010098     -0.000000\n",
       "14   Visibility             0.012307      0.012076      0.000000\n",
       "15         RH_5             0.016006      0.016152      0.000000\n",
       "16         RH_4             0.026386      0.024579      0.000000\n",
       "17           T4             0.028981      0.027384     -0.000000\n",
       "18    Windspeed             0.029183      0.030268      0.002912\n",
       "19         RH_6             0.038049      0.035519     -0.000000\n",
       "20         RH_3             0.096048      0.095135      0.000000\n",
       "21           T8             0.101995      0.101028      0.000000\n",
       "22    Tdewpoint             0.117758      0.083128      0.000000\n",
       "23           T6             0.236425      0.217292      0.000000\n",
       "24           T3             0.290627      0.288087      0.000000\n",
       "25         RH_1             0.553547      0.519525      0.017880"
      ]
     },
     "execution_count": 21,
     "metadata": {},
     "output_type": "execute_result"
    }
   ],
   "source": [
    "all_weight = pd.merge(linear_weight, ridge_weight, on='Features')\n",
    "all_weight = pd.merge(all_weight, lasso_weight, on='Features')\n",
    "all_weight"
   ]
  }
 ],
 "metadata": {
  "kernelspec": {
   "display_name": "Python 3 (ipykernel)",
   "language": "python",
   "name": "python3"
  },
  "language_info": {
   "codemirror_mode": {
    "name": "ipython",
    "version": 3
   },
   "file_extension": ".py",
   "mimetype": "text/x-python",
   "name": "python",
   "nbconvert_exporter": "python",
   "pygments_lexer": "ipython3",
   "version": "3.9.12"
  },
  "vscode": {
   "interpreter": {
    "hash": "b68a3c467d07aa8b20c71071b0b7606f948be72d30c76b97a14d11803ebfb6c4"
   }
  }
 },
 "nbformat": 4,
 "nbformat_minor": 2
}
