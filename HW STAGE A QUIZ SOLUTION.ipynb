{
 "cells": [
  {
   "cell_type": "markdown",
   "id": "68a121fd",
   "metadata": {},
   "source": [
    "# Introduction To Python for Machine Learning\n",
    "\n",
    "## Quiz tag-along code (Answers to quiz questions)"
   ]
  },
  {
   "cell_type": "code",
   "execution_count": 1,
   "id": "570e5bee",
   "metadata": {},
   "outputs": [],
   "source": [
    "import pandas as pd\n",
    "import numpy as np\n",
    "import warnings\n",
    "warnings.filterwarnings('ignore')"
   ]
  },
  {
   "cell_type": "code",
   "execution_count": 2,
   "id": "bc751565",
   "metadata": {},
   "outputs": [
    {
     "data": {
      "text/html": [
       "<div>\n",
       "<style scoped>\n",
       "    .dataframe tbody tr th:only-of-type {\n",
       "        vertical-align: middle;\n",
       "    }\n",
       "\n",
       "    .dataframe tbody tr th {\n",
       "        vertical-align: top;\n",
       "    }\n",
       "\n",
       "    .dataframe thead th {\n",
       "        text-align: right;\n",
       "    }\n",
       "</style>\n",
       "<table border=\"1\" class=\"dataframe\">\n",
       "  <thead>\n",
       "    <tr style=\"text-align: right;\">\n",
       "      <th></th>\n",
       "      <th>Area Code</th>\n",
       "      <th>Area</th>\n",
       "      <th>Item Code</th>\n",
       "      <th>Item</th>\n",
       "      <th>Element Code</th>\n",
       "      <th>Element</th>\n",
       "      <th>Unit</th>\n",
       "      <th>Y2014</th>\n",
       "      <th>Y2015</th>\n",
       "      <th>Y2016</th>\n",
       "      <th>Y2017</th>\n",
       "      <th>Y2018</th>\n",
       "    </tr>\n",
       "  </thead>\n",
       "  <tbody>\n",
       "    <tr>\n",
       "      <th>0</th>\n",
       "      <td>4</td>\n",
       "      <td>Algeria</td>\n",
       "      <td>2501</td>\n",
       "      <td>Population</td>\n",
       "      <td>511</td>\n",
       "      <td>Total Population - Both sexes</td>\n",
       "      <td>1000 persons</td>\n",
       "      <td>38924.00</td>\n",
       "      <td>39728.00</td>\n",
       "      <td>40551.00</td>\n",
       "      <td>41389.00</td>\n",
       "      <td>42228.00</td>\n",
       "    </tr>\n",
       "    <tr>\n",
       "      <th>1</th>\n",
       "      <td>4</td>\n",
       "      <td>Algeria</td>\n",
       "      <td>2501</td>\n",
       "      <td>Population</td>\n",
       "      <td>5301</td>\n",
       "      <td>Domestic supply quantity</td>\n",
       "      <td>1000 tonnes</td>\n",
       "      <td>0.00</td>\n",
       "      <td>0.00</td>\n",
       "      <td>0.00</td>\n",
       "      <td>0.00</td>\n",
       "      <td>0.00</td>\n",
       "    </tr>\n",
       "    <tr>\n",
       "      <th>2</th>\n",
       "      <td>4</td>\n",
       "      <td>Algeria</td>\n",
       "      <td>2901</td>\n",
       "      <td>Grand Total</td>\n",
       "      <td>664</td>\n",
       "      <td>Food supply (kcal/capita/day)</td>\n",
       "      <td>kcal/capita/day</td>\n",
       "      <td>3377.00</td>\n",
       "      <td>3379.00</td>\n",
       "      <td>3372.00</td>\n",
       "      <td>3341.00</td>\n",
       "      <td>3322.00</td>\n",
       "    </tr>\n",
       "    <tr>\n",
       "      <th>3</th>\n",
       "      <td>4</td>\n",
       "      <td>Algeria</td>\n",
       "      <td>2901</td>\n",
       "      <td>Grand Total</td>\n",
       "      <td>674</td>\n",
       "      <td>Protein supply quantity (g/capita/day)</td>\n",
       "      <td>g/capita/day</td>\n",
       "      <td>94.90</td>\n",
       "      <td>94.35</td>\n",
       "      <td>94.72</td>\n",
       "      <td>92.82</td>\n",
       "      <td>91.83</td>\n",
       "    </tr>\n",
       "    <tr>\n",
       "      <th>4</th>\n",
       "      <td>4</td>\n",
       "      <td>Algeria</td>\n",
       "      <td>2901</td>\n",
       "      <td>Grand Total</td>\n",
       "      <td>684</td>\n",
       "      <td>Fat supply quantity (g/capita/day)</td>\n",
       "      <td>g/capita/day</td>\n",
       "      <td>80.06</td>\n",
       "      <td>79.36</td>\n",
       "      <td>77.40</td>\n",
       "      <td>80.19</td>\n",
       "      <td>77.28</td>\n",
       "    </tr>\n",
       "  </tbody>\n",
       "</table>\n",
       "</div>"
      ],
      "text/plain": [
       "   Area Code     Area  Item Code         Item  Element Code  \\\n",
       "0          4  Algeria       2501   Population           511   \n",
       "1          4  Algeria       2501   Population          5301   \n",
       "2          4  Algeria       2901  Grand Total           664   \n",
       "3          4  Algeria       2901  Grand Total           674   \n",
       "4          4  Algeria       2901  Grand Total           684   \n",
       "\n",
       "                                  Element             Unit     Y2014  \\\n",
       "0           Total Population - Both sexes     1000 persons  38924.00   \n",
       "1                Domestic supply quantity      1000 tonnes      0.00   \n",
       "2           Food supply (kcal/capita/day)  kcal/capita/day   3377.00   \n",
       "3  Protein supply quantity (g/capita/day)     g/capita/day     94.90   \n",
       "4      Fat supply quantity (g/capita/day)     g/capita/day     80.06   \n",
       "\n",
       "      Y2015     Y2016     Y2017     Y2018  \n",
       "0  39728.00  40551.00  41389.00  42228.00  \n",
       "1      0.00      0.00      0.00      0.00  \n",
       "2   3379.00   3372.00   3341.00   3322.00  \n",
       "3     94.35     94.72     92.82     91.83  \n",
       "4     79.36     77.40     80.19     77.28  "
      ]
     },
     "execution_count": 2,
     "metadata": {},
     "output_type": "execute_result"
    }
   ],
   "source": [
    "food_data = pd.read_csv('FoodBalanceSheets_E_Africa_NOFLAG.csv', encoding = 'latin-1')\n",
    "food_data.head()"
   ]
  },
  {
   "cell_type": "markdown",
   "id": "b9e6d3d0",
   "metadata": {},
   "source": [
    "1. What would be the output for?\n",
    "\n",
    "S = [['him', 'sell'], [90, 28, 43]]\n",
    "\n",
    "S[0][1][1]\n",
    "\n",
    "Options\n",
    "\n",
    "'l'\n",
    "\n",
    "'i'\n",
    "\n",
    "28\n",
    "\n",
    "'e'"
   ]
  },
  {
   "cell_type": "code",
   "execution_count": 3,
   "id": "8a29ae38",
   "metadata": {},
   "outputs": [
    {
     "data": {
      "text/plain": [
       "'e'"
      ]
     },
     "execution_count": 3,
     "metadata": {},
     "output_type": "execute_result"
    }
   ],
   "source": [
    "S = [['him', 'sell'], [90, 28, 43]]\n",
    "\n",
    "S[0][1][1]"
   ]
  },
  {
   "cell_type": "markdown",
   "id": "4446e497",
   "metadata": {},
   "source": [
    "##### Option 4 is correct"
   ]
  },
  {
   "cell_type": "markdown",
   "id": "c4b4654f",
   "metadata": {},
   "source": [
    "2. Perform a groupby operation on ‘Element’.  What is the total number of the sum of Processing in 2017?\n",
    "\n",
    "Options\n",
    "292836.00\n",
    "\n",
    "232118.43\n",
    "\n",
    "3947019.23\n",
    "\n",
    "3231287.75\n",
    "\n",
    "287134.67"
   ]
  },
  {
   "cell_type": "code",
   "execution_count": 4,
   "id": "11f0e296",
   "metadata": {},
   "outputs": [
    {
     "data": {
      "text/plain": [
       "Element\n",
       "Domestic supply quantity                  2088198.10\n",
       "Export Quantity                            182338.80\n",
       "Fat supply quantity (g/capita/day)          10253.84\n",
       "Feed                                       223705.68\n",
       "Food                                      1258888.28\n",
       "Food supply (kcal/capita/day)              454681.00\n",
       "Food supply quantity (kg/capita/yr)         48690.04\n",
       "Import Quantity                            294559.09\n",
       "Losses                                     160614.00\n",
       "Other uses (non-food)                       91645.97\n",
       "Processing                                 292836.00\n",
       "Production                                2030056.89\n",
       "Protein supply quantity (g/capita/day)      11842.45\n",
       "Residuals                                   35500.00\n",
       "Seed                                        24870.14\n",
       "Stock Variation                             54316.91\n",
       "Total Population - Both sexes             1112641.00\n",
       "Tourist consumption                            91.00\n",
       "Name: Y2017, dtype: float64"
      ]
     },
     "execution_count": 4,
     "metadata": {},
     "output_type": "execute_result"
    }
   ],
   "source": [
    "food_data.groupby('Element')['Y2017'].sum() "
   ]
  },
  {
   "cell_type": "markdown",
   "id": "584298e7",
   "metadata": {},
   "source": [
    "##### Option 1 is correct"
   ]
  },
  {
   "cell_type": "markdown",
   "id": "16f0870f",
   "metadata": {},
   "source": [
    "3. What is the mean and standard deviation across the whole dataset for the year 2017 to 2 decimal places?\n",
    "\n",
    "Options\n",
    "10.60 and 17.01\n",
    "\n",
    "10.60 and 8.49\n",
    "\n",
    "135.23 and 1603.40\n",
    "\n",
    "8.54 and 9876.77\n",
    "\n",
    "140.92 and 1671.86"
   ]
  },
  {
   "cell_type": "code",
   "execution_count": 5,
   "id": "b60f24d5",
   "metadata": {},
   "outputs": [
    {
     "data": {
      "text/html": [
       "<div>\n",
       "<style scoped>\n",
       "    .dataframe tbody tr th:only-of-type {\n",
       "        vertical-align: middle;\n",
       "    }\n",
       "\n",
       "    .dataframe tbody tr th {\n",
       "        vertical-align: top;\n",
       "    }\n",
       "\n",
       "    .dataframe thead th {\n",
       "        text-align: right;\n",
       "    }\n",
       "</style>\n",
       "<table border=\"1\" class=\"dataframe\">\n",
       "  <thead>\n",
       "    <tr style=\"text-align: right;\">\n",
       "      <th></th>\n",
       "      <th>Area Code</th>\n",
       "      <th>Item Code</th>\n",
       "      <th>Element Code</th>\n",
       "      <th>Y2014</th>\n",
       "      <th>Y2015</th>\n",
       "      <th>Y2016</th>\n",
       "      <th>Y2017</th>\n",
       "      <th>Y2018</th>\n",
       "    </tr>\n",
       "  </thead>\n",
       "  <tbody>\n",
       "    <tr>\n",
       "      <th>count</th>\n",
       "      <td>60943.000000</td>\n",
       "      <td>60943.000000</td>\n",
       "      <td>60943.000000</td>\n",
       "      <td>59354.000000</td>\n",
       "      <td>59395.000000</td>\n",
       "      <td>59408.000000</td>\n",
       "      <td>59437.000000</td>\n",
       "      <td>59507.000000</td>\n",
       "    </tr>\n",
       "    <tr>\n",
       "      <th>mean</th>\n",
       "      <td>134.265576</td>\n",
       "      <td>2687.176706</td>\n",
       "      <td>3814.856456</td>\n",
       "      <td>134.196282</td>\n",
       "      <td>135.235966</td>\n",
       "      <td>136.555222</td>\n",
       "      <td>140.917765</td>\n",
       "      <td>143.758381</td>\n",
       "    </tr>\n",
       "    <tr>\n",
       "      <th>std</th>\n",
       "      <td>72.605709</td>\n",
       "      <td>146.055739</td>\n",
       "      <td>2212.007033</td>\n",
       "      <td>1567.663696</td>\n",
       "      <td>1603.403984</td>\n",
       "      <td>1640.007194</td>\n",
       "      <td>1671.862359</td>\n",
       "      <td>1710.782658</td>\n",
       "    </tr>\n",
       "    <tr>\n",
       "      <th>min</th>\n",
       "      <td>4.000000</td>\n",
       "      <td>2501.000000</td>\n",
       "      <td>511.000000</td>\n",
       "      <td>-1796.000000</td>\n",
       "      <td>-3161.000000</td>\n",
       "      <td>-3225.000000</td>\n",
       "      <td>-1582.000000</td>\n",
       "      <td>-3396.000000</td>\n",
       "    </tr>\n",
       "    <tr>\n",
       "      <th>25%</th>\n",
       "      <td>74.000000</td>\n",
       "      <td>2562.000000</td>\n",
       "      <td>684.000000</td>\n",
       "      <td>0.000000</td>\n",
       "      <td>0.000000</td>\n",
       "      <td>0.000000</td>\n",
       "      <td>0.000000</td>\n",
       "      <td>0.000000</td>\n",
       "    </tr>\n",
       "    <tr>\n",
       "      <th>50%</th>\n",
       "      <td>136.000000</td>\n",
       "      <td>2630.000000</td>\n",
       "      <td>5142.000000</td>\n",
       "      <td>0.090000</td>\n",
       "      <td>0.080000</td>\n",
       "      <td>0.080000</td>\n",
       "      <td>0.100000</td>\n",
       "      <td>0.070000</td>\n",
       "    </tr>\n",
       "    <tr>\n",
       "      <th>75%</th>\n",
       "      <td>195.000000</td>\n",
       "      <td>2775.000000</td>\n",
       "      <td>5511.000000</td>\n",
       "      <td>8.340000</td>\n",
       "      <td>8.460000</td>\n",
       "      <td>8.430000</td>\n",
       "      <td>9.000000</td>\n",
       "      <td>9.000000</td>\n",
       "    </tr>\n",
       "    <tr>\n",
       "      <th>max</th>\n",
       "      <td>276.000000</td>\n",
       "      <td>2961.000000</td>\n",
       "      <td>5911.000000</td>\n",
       "      <td>176405.000000</td>\n",
       "      <td>181137.000000</td>\n",
       "      <td>185960.000000</td>\n",
       "      <td>190873.000000</td>\n",
       "      <td>195875.000000</td>\n",
       "    </tr>\n",
       "  </tbody>\n",
       "</table>\n",
       "</div>"
      ],
      "text/plain": [
       "          Area Code     Item Code  Element Code          Y2014          Y2015  \\\n",
       "count  60943.000000  60943.000000  60943.000000   59354.000000   59395.000000   \n",
       "mean     134.265576   2687.176706   3814.856456     134.196282     135.235966   \n",
       "std       72.605709    146.055739   2212.007033    1567.663696    1603.403984   \n",
       "min        4.000000   2501.000000    511.000000   -1796.000000   -3161.000000   \n",
       "25%       74.000000   2562.000000    684.000000       0.000000       0.000000   \n",
       "50%      136.000000   2630.000000   5142.000000       0.090000       0.080000   \n",
       "75%      195.000000   2775.000000   5511.000000       8.340000       8.460000   \n",
       "max      276.000000   2961.000000   5911.000000  176405.000000  181137.000000   \n",
       "\n",
       "               Y2016          Y2017          Y2018  \n",
       "count   59408.000000   59437.000000   59507.000000  \n",
       "mean      136.555222     140.917765     143.758381  \n",
       "std      1640.007194    1671.862359    1710.782658  \n",
       "min     -3225.000000   -1582.000000   -3396.000000  \n",
       "25%         0.000000       0.000000       0.000000  \n",
       "50%         0.080000       0.100000       0.070000  \n",
       "75%         8.430000       9.000000       9.000000  \n",
       "max    185960.000000  190873.000000  195875.000000  "
      ]
     },
     "execution_count": 5,
     "metadata": {},
     "output_type": "execute_result"
    }
   ],
   "source": [
    "food_data.describe()"
   ]
  },
  {
   "cell_type": "markdown",
   "id": "490ac5ca",
   "metadata": {},
   "source": [
    "##### Option 4 is correct"
   ]
  },
  {
   "cell_type": "markdown",
   "id": "f4424f91",
   "metadata": {},
   "source": [
    "4. If you have the following list\n",
    "\n",
    "lst = [[35, 'Portugal', 94], [33, 'Argentina', 93], [30 , 'Brazil', 92]]\n",
    "\n",
    "col = [‘Age’,’Nationality’,’Overall’]\n",
    "\n",
    "How do you create a pandas DataFrame using this list, to look like the table below?\n",
    "\n",
    "|  |Age|Nationality| Overall|\n",
    "|---|---|---|---|\n",
    "| 1 | 35 | Portugal | 94 |\n",
    "| 2 | 33 | Argentina | 93 |\n",
    "| 3 | 30 | Brazil | 92 |\n",
    "\n",
    "None of the above\n",
    "\n",
    "pd.datframe(lst, column = [‘Age’,’Nationality’,’Overall’],index = [1,2,3])\n",
    "\n",
    "pd.Dataframe(lst, columns = col, index = [1,2,3])\n",
    "\n",
    "pd.DataFrame(lst, columns = col, index = [i for i in range(1,4)])\n",
    "\n",
    "pd.Dateframe(lst, column = [‘Age’,’Nationality’,’Overall’], index = [1,2,3])\n"
   ]
  },
  {
   "cell_type": "code",
   "execution_count": 6,
   "id": "7db7404b",
   "metadata": {},
   "outputs": [
    {
     "data": {
      "text/html": [
       "<div>\n",
       "<style scoped>\n",
       "    .dataframe tbody tr th:only-of-type {\n",
       "        vertical-align: middle;\n",
       "    }\n",
       "\n",
       "    .dataframe tbody tr th {\n",
       "        vertical-align: top;\n",
       "    }\n",
       "\n",
       "    .dataframe thead th {\n",
       "        text-align: right;\n",
       "    }\n",
       "</style>\n",
       "<table border=\"1\" class=\"dataframe\">\n",
       "  <thead>\n",
       "    <tr style=\"text-align: right;\">\n",
       "      <th></th>\n",
       "      <th>Age</th>\n",
       "      <th>Nationality</th>\n",
       "      <th>Overall</th>\n",
       "    </tr>\n",
       "  </thead>\n",
       "  <tbody>\n",
       "    <tr>\n",
       "      <th>1</th>\n",
       "      <td>35</td>\n",
       "      <td>Portugal</td>\n",
       "      <td>94</td>\n",
       "    </tr>\n",
       "    <tr>\n",
       "      <th>2</th>\n",
       "      <td>33</td>\n",
       "      <td>Argentina</td>\n",
       "      <td>93</td>\n",
       "    </tr>\n",
       "    <tr>\n",
       "      <th>3</th>\n",
       "      <td>30</td>\n",
       "      <td>Brazil</td>\n",
       "      <td>92</td>\n",
       "    </tr>\n",
       "  </tbody>\n",
       "</table>\n",
       "</div>"
      ],
      "text/plain": [
       "   Age Nationality  Overall\n",
       "1   35    Portugal       94\n",
       "2   33   Argentina       93\n",
       "3   30      Brazil       92"
      ]
     },
     "execution_count": 6,
     "metadata": {},
     "output_type": "execute_result"
    }
   ],
   "source": [
    "lst = [[35, 'Portugal', 94], [33, 'Argentina', 93], [30 , 'Brazil', 92]]\n",
    "\n",
    "col = ['Age', 'Nationality', 'Overall']\n",
    "pd.DataFrame(lst, columns=col, index=[1,2,3])"
   ]
  },
  {
   "cell_type": "code",
   "execution_count": 7,
   "id": "783b8cdc",
   "metadata": {},
   "outputs": [
    {
     "data": {
      "text/html": [
       "<div>\n",
       "<style scoped>\n",
       "    .dataframe tbody tr th:only-of-type {\n",
       "        vertical-align: middle;\n",
       "    }\n",
       "\n",
       "    .dataframe tbody tr th {\n",
       "        vertical-align: top;\n",
       "    }\n",
       "\n",
       "    .dataframe thead th {\n",
       "        text-align: right;\n",
       "    }\n",
       "</style>\n",
       "<table border=\"1\" class=\"dataframe\">\n",
       "  <thead>\n",
       "    <tr style=\"text-align: right;\">\n",
       "      <th></th>\n",
       "      <th>Age</th>\n",
       "      <th>Naionality</th>\n",
       "      <th>Overall</th>\n",
       "    </tr>\n",
       "  </thead>\n",
       "  <tbody>\n",
       "    <tr>\n",
       "      <th>1</th>\n",
       "      <td>35</td>\n",
       "      <td>Portugal</td>\n",
       "      <td>94</td>\n",
       "    </tr>\n",
       "    <tr>\n",
       "      <th>2</th>\n",
       "      <td>33</td>\n",
       "      <td>Argentina</td>\n",
       "      <td>93</td>\n",
       "    </tr>\n",
       "    <tr>\n",
       "      <th>3</th>\n",
       "      <td>30</td>\n",
       "      <td>Brazil</td>\n",
       "      <td>92</td>\n",
       "    </tr>\n",
       "  </tbody>\n",
       "</table>\n",
       "</div>"
      ],
      "text/plain": [
       "   Age Naionality  Overall\n",
       "1   35   Portugal       94\n",
       "2   33  Argentina       93\n",
       "3   30     Brazil       92"
      ]
     },
     "execution_count": 7,
     "metadata": {},
     "output_type": "execute_result"
    }
   ],
   "source": [
    "pd.DataFrame(lst, columns=['Age', 'Naionality', 'Overall'], index=[1,2,3])"
   ]
  },
  {
   "cell_type": "code",
   "execution_count": 8,
   "id": "cbc9b0ae",
   "metadata": {},
   "outputs": [
    {
     "data": {
      "text/html": [
       "<div>\n",
       "<style scoped>\n",
       "    .dataframe tbody tr th:only-of-type {\n",
       "        vertical-align: middle;\n",
       "    }\n",
       "\n",
       "    .dataframe tbody tr th {\n",
       "        vertical-align: top;\n",
       "    }\n",
       "\n",
       "    .dataframe thead th {\n",
       "        text-align: right;\n",
       "    }\n",
       "</style>\n",
       "<table border=\"1\" class=\"dataframe\">\n",
       "  <thead>\n",
       "    <tr style=\"text-align: right;\">\n",
       "      <th></th>\n",
       "      <th>Age</th>\n",
       "      <th>Nationality</th>\n",
       "      <th>Overall</th>\n",
       "    </tr>\n",
       "  </thead>\n",
       "  <tbody>\n",
       "    <tr>\n",
       "      <th>1</th>\n",
       "      <td>35</td>\n",
       "      <td>Portugal</td>\n",
       "      <td>94</td>\n",
       "    </tr>\n",
       "    <tr>\n",
       "      <th>2</th>\n",
       "      <td>33</td>\n",
       "      <td>Argentina</td>\n",
       "      <td>93</td>\n",
       "    </tr>\n",
       "    <tr>\n",
       "      <th>3</th>\n",
       "      <td>30</td>\n",
       "      <td>Brazil</td>\n",
       "      <td>92</td>\n",
       "    </tr>\n",
       "  </tbody>\n",
       "</table>\n",
       "</div>"
      ],
      "text/plain": [
       "   Age Nationality  Overall\n",
       "1   35    Portugal       94\n",
       "2   33   Argentina       93\n",
       "3   30      Brazil       92"
      ]
     },
     "execution_count": 8,
     "metadata": {},
     "output_type": "execute_result"
    }
   ],
   "source": [
    "pd.DataFrame(lst, columns=col, index=[i for i in range(1,4)])"
   ]
  },
  {
   "cell_type": "markdown",
   "id": "f88864b3",
   "metadata": {},
   "source": [
    "##### Option 3,4,5 is correct"
   ]
  },
  {
   "cell_type": "markdown",
   "id": "1756ed7d",
   "metadata": {},
   "source": [
    "5. Answer the following questions based on the African food production dataset provided by the FAO website already provided\n",
    "\n",
    "What is the total sum of Wine produced in 2015 and 2018 respectively?\n",
    "\n",
    "Hint:\n",
    "\n",
    "Perform a groupby sum aggregation on ‘Item’\n",
    "\n",
    "Options\n",
    "20675.72 and 26968.27\n",
    "\n",
    "2134.34 and 3517.22\n",
    "\n",
    "4251.81 and 4039.32\n",
    "\n",
    "1584.08 and 1387.21"
   ]
  },
  {
   "cell_type": "code",
   "execution_count": 9,
   "id": "fdeabbed",
   "metadata": {},
   "outputs": [
    {
     "data": {
      "text/html": [
       "<div>\n",
       "<style scoped>\n",
       "    .dataframe tbody tr th:only-of-type {\n",
       "        vertical-align: middle;\n",
       "    }\n",
       "\n",
       "    .dataframe tbody tr th {\n",
       "        vertical-align: top;\n",
       "    }\n",
       "\n",
       "    .dataframe thead th {\n",
       "        text-align: right;\n",
       "    }\n",
       "</style>\n",
       "<table border=\"1\" class=\"dataframe\">\n",
       "  <thead>\n",
       "    <tr style=\"text-align: right;\">\n",
       "      <th></th>\n",
       "      <th>Y2015</th>\n",
       "      <th>Y2018</th>\n",
       "    </tr>\n",
       "    <tr>\n",
       "      <th>Item</th>\n",
       "      <th></th>\n",
       "      <th></th>\n",
       "    </tr>\n",
       "  </thead>\n",
       "  <tbody>\n",
       "    <tr>\n",
       "      <th>Alcohol, Non-Food</th>\n",
       "      <td>2180.00</td>\n",
       "      <td>2293.00</td>\n",
       "    </tr>\n",
       "    <tr>\n",
       "      <th>Alcoholic Beverages</th>\n",
       "      <td>98783.72</td>\n",
       "      <td>97847.27</td>\n",
       "    </tr>\n",
       "    <tr>\n",
       "      <th>Animal Products</th>\n",
       "      <td>11811.73</td>\n",
       "      <td>11578.61</td>\n",
       "    </tr>\n",
       "    <tr>\n",
       "      <th>Animal fats</th>\n",
       "      <td>200675.72</td>\n",
       "      <td>269648.27</td>\n",
       "    </tr>\n",
       "    <tr>\n",
       "      <th>Apples and products</th>\n",
       "      <td>10559.15</td>\n",
       "      <td>9640.51</td>\n",
       "    </tr>\n",
       "    <tr>\n",
       "      <th>...</th>\n",
       "      <td>...</td>\n",
       "      <td>...</td>\n",
       "    </tr>\n",
       "    <tr>\n",
       "      <th>Vegetables, Other</th>\n",
       "      <td>158104.08</td>\n",
       "      <td>163987.21</td>\n",
       "    </tr>\n",
       "    <tr>\n",
       "      <th>Vegetal Products</th>\n",
       "      <td>107064.17</td>\n",
       "      <td>107775.39</td>\n",
       "    </tr>\n",
       "    <tr>\n",
       "      <th>Wheat and products</th>\n",
       "      <td>234710.51</td>\n",
       "      <td>242645.19</td>\n",
       "    </tr>\n",
       "    <tr>\n",
       "      <th>Wine</th>\n",
       "      <td>4251.81</td>\n",
       "      <td>4039.32</td>\n",
       "    </tr>\n",
       "    <tr>\n",
       "      <th>Yams</th>\n",
       "      <td>203151.78</td>\n",
       "      <td>221272.09</td>\n",
       "    </tr>\n",
       "  </tbody>\n",
       "</table>\n",
       "<p>119 rows × 2 columns</p>\n",
       "</div>"
      ],
      "text/plain": [
       "                         Y2015      Y2018\n",
       "Item                                     \n",
       "Alcohol, Non-Food      2180.00    2293.00\n",
       "Alcoholic Beverages   98783.72   97847.27\n",
       "Animal Products       11811.73   11578.61\n",
       "Animal fats          200675.72  269648.27\n",
       "Apples and products   10559.15    9640.51\n",
       "...                        ...        ...\n",
       "Vegetables, Other    158104.08  163987.21\n",
       "Vegetal Products     107064.17  107775.39\n",
       "Wheat and products   234710.51  242645.19\n",
       "Wine                   4251.81    4039.32\n",
       "Yams                 203151.78  221272.09\n",
       "\n",
       "[119 rows x 2 columns]"
      ]
     },
     "execution_count": 9,
     "metadata": {},
     "output_type": "execute_result"
    }
   ],
   "source": [
    "wine = food_data.groupby('Item')['Y2015', 'Y2018'].sum()\n",
    "wine"
   ]
  },
  {
   "cell_type": "markdown",
   "id": "5c695f9c",
   "metadata": {},
   "source": [
    "##### Option 3 is correct"
   ]
  },
  {
   "cell_type": "markdown",
   "id": "c7feb2f4",
   "metadata": {},
   "source": [
    "6. Select columns ‘Y2017’ and ‘Area’, Perform a groupby operation on ‘Area’.  Which of these Areas had the 7th lowest sum in 2017?\n",
    "\n",
    "Options\n",
    "Cabo Verde\n",
    "\n",
    "Ghana\n",
    "\n",
    "Seychelles\n",
    "\n",
    "Guinea-Bissau\n",
    "\n",
    "Comoros"
   ]
  },
  {
   "cell_type": "code",
   "execution_count": 10,
   "id": "57c3a2db",
   "metadata": {},
   "outputs": [
    {
     "data": {
      "text/plain": [
       "Area\n",
       "Sudan (former)               0.00\n",
       "Ethiopia PDR                 0.00\n",
       "Comoros                     59.84\n",
       "Seychelles                 442.34\n",
       "Sao Tome and Principe    12662.63\n",
       "Cabo Verde               14650.74\n",
       "Guinea-Bissau            19102.77\n",
       "Lesotho                  21267.96\n",
       "Botswana                 22101.30\n",
       "Djibouti                 22729.91\n",
       "Name: Y2017, dtype: float64"
      ]
     },
     "execution_count": 10,
     "metadata": {},
     "output_type": "execute_result"
    }
   ],
   "source": [
    "food_data.groupby('Area')['Y2017'].sum().sort_values()[:10]"
   ]
  },
  {
   "cell_type": "markdown",
   "id": "a4f1fdae",
   "metadata": {},
   "source": [
    "##### Option 3 is correct"
   ]
  },
  {
   "cell_type": "markdown",
   "id": "9739d003",
   "metadata": {},
   "source": [
    "7. What is the total Protein supply quantity in Madagascar in 2015?\n",
    "\n",
    "Options\n",
    "174.91\n",
    "\n",
    "357.12\n",
    "\n",
    "173.05\n",
    "\n",
    "180.29"
   ]
  },
  {
   "cell_type": "code",
   "execution_count": 11,
   "id": "48630ce2",
   "metadata": {},
   "outputs": [
    {
     "data": {
      "text/plain": [
       "Element\n",
       "Domestic supply quantity                  31214.98\n",
       "Export Quantity                             494.75\n",
       "Fat supply quantity (g/capita/day)           91.85\n",
       "Feed                                       2070.22\n",
       "Food                                      21120.65\n",
       "Food supply (kcal/capita/day)              7685.00\n",
       "Food supply quantity (kg/capita/yr)         871.59\n",
       "Import Quantity                            1721.80\n",
       "Losses                                     2176.00\n",
       "Other uses (non-food)                      3957.12\n",
       "Processing                                 1803.00\n",
       "Production                                29482.89\n",
       "Protein supply quantity (g/capita/day)      173.05\n",
       "Residuals                                  -616.00\n",
       "Seed                                        699.00\n",
       "Stock Variation                            -505.00\n",
       "Total Population - Both sexes             24234.00\n",
       "Name: Y2015, dtype: float64"
      ]
     },
     "execution_count": 11,
     "metadata": {},
     "output_type": "execute_result"
    }
   ],
   "source": [
    "food_data[food_data.Area == 'Madagascar'].groupby('Element')['Y2015'].sum()"
   ]
  },
  {
   "cell_type": "markdown",
   "id": "7818a332",
   "metadata": {},
   "source": [
    "##### Option 3 is correct"
   ]
  },
  {
   "cell_type": "markdown",
   "id": "a12351d6",
   "metadata": {},
   "source": [
    "8. Given the following python code, what would the output of the code give?\n",
    "\n",
    "my_tuppy = (1,2,5,8)\n",
    "\n",
    "my_tuppy[2] = 6\n",
    "\n",
    "Options\n",
    "Math Error\n",
    "\n",
    "Standard Error\n",
    "\n",
    "Value Error\n",
    "\n",
    "Type Error"
   ]
  },
  {
   "cell_type": "code",
   "execution_count": 12,
   "id": "bf32e087",
   "metadata": {},
   "outputs": [
    {
     "ename": "TypeError",
     "evalue": "'tuple' object does not support item assignment",
     "output_type": "error",
     "traceback": [
      "\u001b[1;31m---------------------------------------------------------------------------\u001b[0m",
      "\u001b[1;31mTypeError\u001b[0m                                 Traceback (most recent call last)",
      "Input \u001b[1;32mIn [12]\u001b[0m, in \u001b[0;36m<cell line: 2>\u001b[1;34m()\u001b[0m\n\u001b[0;32m      1\u001b[0m my_tuple \u001b[38;5;241m=\u001b[39m (\u001b[38;5;241m1\u001b[39m,\u001b[38;5;241m2\u001b[39m,\u001b[38;5;241m5\u001b[39m,\u001b[38;5;241m8\u001b[39m)\n\u001b[1;32m----> 2\u001b[0m my_tuple[\u001b[38;5;241m2\u001b[39m] \u001b[38;5;241m=\u001b[39m \u001b[38;5;241m6\u001b[39m\n",
      "\u001b[1;31mTypeError\u001b[0m: 'tuple' object does not support item assignment"
     ]
    }
   ],
   "source": [
    "my_tuple = (1,2,5,8)\n",
    "my_tuple[2] = 6"
   ]
  },
  {
   "cell_type": "markdown",
   "id": "d1d307d4",
   "metadata": {},
   "source": [
    "##### Option 4 is correct"
   ]
  },
  {
   "cell_type": "markdown",
   "id": "6430a606",
   "metadata": {},
   "source": [
    "9. Select columns ‘Y2017’ and ‘Area’, Perform a groupby operation on ‘Area’.  Which of these Areas had the highest sum in 2017?\n",
    "\n",
    "Options\n",
    "Kenya\n",
    "\n",
    "Egypt\n",
    "\n",
    "South Africa\n",
    "\n",
    "Ethiopia\n",
    "\n",
    "Nigeria"
   ]
  },
  {
   "cell_type": "code",
   "execution_count": 13,
   "id": "b2482534",
   "metadata": {},
   "outputs": [
    {
     "data": {
      "text/plain": [
       "Area\n",
       "Nigeria         1483268.23\n",
       "Egypt            866379.92\n",
       "South Africa     517590.54\n",
       "Ethiopia         448683.76\n",
       "Morocco          388495.36\n",
       "Name: Y2017, dtype: float64"
      ]
     },
     "execution_count": 13,
     "metadata": {},
     "output_type": "execute_result"
    }
   ],
   "source": [
    "food_data.groupby('Area')['Y2017'].sum().sort_values(ascending=False)[:5]"
   ]
  },
  {
   "cell_type": "markdown",
   "id": "7bcbbcf5",
   "metadata": {},
   "source": [
    "##### Option 4 is correct"
   ]
  },
  {
   "cell_type": "markdown",
   "id": "89ee2438",
   "metadata": {},
   "source": [
    "10. Which of the following is a python inbuilt module?\n",
    "\n",
    "Options\n",
    "\n",
    "Math\n",
    "\n",
    "Seaborn\n",
    "\n",
    "Pandas\n",
    "\n",
    "Matplotlib"
   ]
  },
  {
   "cell_type": "markdown",
   "id": "2087a318",
   "metadata": {},
   "source": [
    "##### Option 1 is correct"
   ]
  },
  {
   "cell_type": "markdown",
   "id": "d1b15227",
   "metadata": {},
   "source": [
    "11. Consider the following list of tuples:\n",
    "\n",
    "y = [(2, 4), (7, 8), (1, 5, 9)]\n",
    "\n",
    "How would you assign element 8 from the list to a variable x?\n",
    "\n",
    "Options\n",
    "x = y[1][-1]\n",
    "\n",
    "x = y[1][-2] \n",
    "\n",
    "x = y[2][-1]\n",
    "\n",
    "x = y[1][1]"
   ]
  },
  {
   "cell_type": "code",
   "execution_count": 14,
   "id": "85d5b2ae",
   "metadata": {},
   "outputs": [
    {
     "name": "stdout",
     "output_type": "stream",
     "text": [
      "(7, 8)\n",
      "8\n",
      "8\n"
     ]
    }
   ],
   "source": [
    "y = [(2, 4), (7, 8), (1, 5, 9)]\n",
    "print(y[1])\n",
    "print(y[1][-1])\n",
    "print(y[1][1])"
   ]
  },
  {
   "cell_type": "markdown",
   "id": "25846e9a",
   "metadata": {},
   "source": [
    "##### Option 1,4 is correct"
   ]
  },
  {
   "cell_type": "markdown",
   "id": "eb9e907f",
   "metadata": {},
   "source": [
    "12. A pandas Dataframe with dimensions (100,3) has how many features and observations?\n",
    "\n",
    "Options\n",
    "100 features, 3 observations.\n",
    "\n",
    "100 rows and 3 observations.\n",
    "\n",
    "A pandas dataframe has no attribute feature or observation.\n",
    "\n",
    "3 features, 100 observations"
   ]
  },
  {
   "cell_type": "markdown",
   "id": "e6856d17",
   "metadata": {},
   "source": [
    "The pandas Dataframe has 3 features and 100 observations"
   ]
  },
  {
   "cell_type": "markdown",
   "id": "582a28a5",
   "metadata": {},
   "source": [
    "##### Option 1 is correct"
   ]
  },
  {
   "cell_type": "markdown",
   "id": "53135013",
   "metadata": {},
   "source": [
    "13. Perform a groupby operation on ‘Element’.  What year has the highest sum of Stock Variation?\n",
    "\n",
    "Options\n",
    "2015\n",
    "\n",
    "2014\n",
    "\n",
    "2016\n",
    "\n",
    "2017"
   ]
  },
  {
   "cell_type": "code",
   "execution_count": 15,
   "id": "cdbf7443",
   "metadata": {},
   "outputs": [
    {
     "data": {
      "text/plain": [
       "Index(['Y2014', 'Y2015', 'Y2016', 'Y2017'], dtype='object')"
      ]
     },
     "execution_count": 15,
     "metadata": {},
     "output_type": "execute_result"
    }
   ],
   "source": [
    "food_data.iloc[:, -5:-1].columns"
   ]
  },
  {
   "cell_type": "code",
   "execution_count": 16,
   "id": "6da6d919",
   "metadata": {},
   "outputs": [
    {
     "data": {
      "text/html": [
       "<div>\n",
       "<style scoped>\n",
       "    .dataframe tbody tr th:only-of-type {\n",
       "        vertical-align: middle;\n",
       "    }\n",
       "\n",
       "    .dataframe tbody tr th {\n",
       "        vertical-align: top;\n",
       "    }\n",
       "\n",
       "    .dataframe thead th {\n",
       "        text-align: right;\n",
       "    }\n",
       "</style>\n",
       "<table border=\"1\" class=\"dataframe\">\n",
       "  <thead>\n",
       "    <tr style=\"text-align: right;\">\n",
       "      <th></th>\n",
       "      <th>Y2014</th>\n",
       "      <th>Y2015</th>\n",
       "      <th>Y2016</th>\n",
       "      <th>Y2017</th>\n",
       "    </tr>\n",
       "    <tr>\n",
       "      <th>Element</th>\n",
       "      <th></th>\n",
       "      <th></th>\n",
       "      <th></th>\n",
       "      <th></th>\n",
       "    </tr>\n",
       "  </thead>\n",
       "  <tbody>\n",
       "    <tr>\n",
       "      <th>Domestic supply quantity</th>\n",
       "      <td>1996716.35</td>\n",
       "      <td>2021493.55</td>\n",
       "      <td>2044842.70</td>\n",
       "      <td>2088198.10</td>\n",
       "    </tr>\n",
       "    <tr>\n",
       "      <th>Export Quantity</th>\n",
       "      <td>150020.64</td>\n",
       "      <td>157614.47</td>\n",
       "      <td>151920.46</td>\n",
       "      <td>182338.80</td>\n",
       "    </tr>\n",
       "    <tr>\n",
       "      <th>Fat supply quantity (g/capita/day)</th>\n",
       "      <td>10225.56</td>\n",
       "      <td>10235.74</td>\n",
       "      <td>10102.77</td>\n",
       "      <td>10253.84</td>\n",
       "    </tr>\n",
       "    <tr>\n",
       "      <th>Feed</th>\n",
       "      <td>216927.89</td>\n",
       "      <td>225050.22</td>\n",
       "      <td>228958.65</td>\n",
       "      <td>223705.68</td>\n",
       "    </tr>\n",
       "    <tr>\n",
       "      <th>Food</th>\n",
       "      <td>1212332.49</td>\n",
       "      <td>1232361.10</td>\n",
       "      <td>1247022.17</td>\n",
       "      <td>1258888.28</td>\n",
       "    </tr>\n",
       "    <tr>\n",
       "      <th>Food supply (kcal/capita/day)</th>\n",
       "      <td>454257.00</td>\n",
       "      <td>453383.00</td>\n",
       "      <td>451810.00</td>\n",
       "      <td>454681.00</td>\n",
       "    </tr>\n",
       "    <tr>\n",
       "      <th>Food supply quantity (kg/capita/yr)</th>\n",
       "      <td>49650.63</td>\n",
       "      <td>49345.13</td>\n",
       "      <td>48985.28</td>\n",
       "      <td>48690.04</td>\n",
       "    </tr>\n",
       "    <tr>\n",
       "      <th>Import Quantity</th>\n",
       "      <td>274144.48</td>\n",
       "      <td>267018.46</td>\n",
       "      <td>286582.78</td>\n",
       "      <td>294559.09</td>\n",
       "    </tr>\n",
       "    <tr>\n",
       "      <th>Losses</th>\n",
       "      <td>153223.00</td>\n",
       "      <td>155439.00</td>\n",
       "      <td>157787.00</td>\n",
       "      <td>160614.00</td>\n",
       "    </tr>\n",
       "    <tr>\n",
       "      <th>Other uses (non-food)</th>\n",
       "      <td>78718.13</td>\n",
       "      <td>66254.41</td>\n",
       "      <td>69563.68</td>\n",
       "      <td>91645.97</td>\n",
       "    </tr>\n",
       "    <tr>\n",
       "      <th>Processing</th>\n",
       "      <td>282923.00</td>\n",
       "      <td>287929.00</td>\n",
       "      <td>280631.00</td>\n",
       "      <td>292836.00</td>\n",
       "    </tr>\n",
       "    <tr>\n",
       "      <th>Production</th>\n",
       "      <td>1931287.75</td>\n",
       "      <td>1947019.39</td>\n",
       "      <td>1943537.15</td>\n",
       "      <td>2030056.89</td>\n",
       "    </tr>\n",
       "    <tr>\n",
       "      <th>Protein supply quantity (g/capita/day)</th>\n",
       "      <td>11836.46</td>\n",
       "      <td>11833.95</td>\n",
       "      <td>11779.69</td>\n",
       "      <td>11842.45</td>\n",
       "    </tr>\n",
       "    <tr>\n",
       "      <th>Residuals</th>\n",
       "      <td>30149.00</td>\n",
       "      <td>30045.00</td>\n",
       "      <td>37224.00</td>\n",
       "      <td>35500.00</td>\n",
       "    </tr>\n",
       "    <tr>\n",
       "      <th>Seed</th>\n",
       "      <td>21922.92</td>\n",
       "      <td>23976.82</td>\n",
       "      <td>23389.20</td>\n",
       "      <td>24870.14</td>\n",
       "    </tr>\n",
       "    <tr>\n",
       "      <th>Stock Variation</th>\n",
       "      <td>58749.83</td>\n",
       "      <td>34910.99</td>\n",
       "      <td>33140.12</td>\n",
       "      <td>54316.91</td>\n",
       "    </tr>\n",
       "    <tr>\n",
       "      <th>Total Population - Both sexes</th>\n",
       "      <td>1031585.00</td>\n",
       "      <td>1058081.00</td>\n",
       "      <td>1085107.00</td>\n",
       "      <td>1112641.00</td>\n",
       "    </tr>\n",
       "    <tr>\n",
       "      <th>Tourist consumption</th>\n",
       "      <td>416.00</td>\n",
       "      <td>349.00</td>\n",
       "      <td>89.00</td>\n",
       "      <td>91.00</td>\n",
       "    </tr>\n",
       "  </tbody>\n",
       "</table>\n",
       "</div>"
      ],
      "text/plain": [
       "                                             Y2014       Y2015       Y2016  \\\n",
       "Element                                                                      \n",
       "Domestic supply quantity                1996716.35  2021493.55  2044842.70   \n",
       "Export Quantity                          150020.64   157614.47   151920.46   \n",
       "Fat supply quantity (g/capita/day)        10225.56    10235.74    10102.77   \n",
       "Feed                                     216927.89   225050.22   228958.65   \n",
       "Food                                    1212332.49  1232361.10  1247022.17   \n",
       "Food supply (kcal/capita/day)            454257.00   453383.00   451810.00   \n",
       "Food supply quantity (kg/capita/yr)       49650.63    49345.13    48985.28   \n",
       "Import Quantity                          274144.48   267018.46   286582.78   \n",
       "Losses                                   153223.00   155439.00   157787.00   \n",
       "Other uses (non-food)                     78718.13    66254.41    69563.68   \n",
       "Processing                               282923.00   287929.00   280631.00   \n",
       "Production                              1931287.75  1947019.39  1943537.15   \n",
       "Protein supply quantity (g/capita/day)    11836.46    11833.95    11779.69   \n",
       "Residuals                                 30149.00    30045.00    37224.00   \n",
       "Seed                                      21922.92    23976.82    23389.20   \n",
       "Stock Variation                           58749.83    34910.99    33140.12   \n",
       "Total Population - Both sexes           1031585.00  1058081.00  1085107.00   \n",
       "Tourist consumption                         416.00      349.00       89.00   \n",
       "\n",
       "                                             Y2017  \n",
       "Element                                             \n",
       "Domestic supply quantity                2088198.10  \n",
       "Export Quantity                          182338.80  \n",
       "Fat supply quantity (g/capita/day)        10253.84  \n",
       "Feed                                     223705.68  \n",
       "Food                                    1258888.28  \n",
       "Food supply (kcal/capita/day)            454681.00  \n",
       "Food supply quantity (kg/capita/yr)       48690.04  \n",
       "Import Quantity                          294559.09  \n",
       "Losses                                   160614.00  \n",
       "Other uses (non-food)                     91645.97  \n",
       "Processing                               292836.00  \n",
       "Production                              2030056.89  \n",
       "Protein supply quantity (g/capita/day)    11842.45  \n",
       "Residuals                                 35500.00  \n",
       "Seed                                      24870.14  \n",
       "Stock Variation                           54316.91  \n",
       "Total Population - Both sexes           1112641.00  \n",
       "Tourist consumption                          91.00  "
      ]
     },
     "execution_count": 16,
     "metadata": {},
     "output_type": "execute_result"
    }
   ],
   "source": [
    "food_data.groupby('Element')[food_data.iloc[:, -5:-1].columns].sum()"
   ]
  },
  {
   "cell_type": "markdown",
   "id": "39455091",
   "metadata": {},
   "source": [
    "##### Option 2 is correct"
   ]
  },
  {
   "cell_type": "markdown",
   "id": "3e797d93",
   "metadata": {},
   "source": [
    "14. Which year had the least correlation with ‘Element Code’?\n",
    "\n",
    "Options\n",
    "2015\n",
    "\n",
    "2017\n",
    "\n",
    "2016\n",
    "\n",
    "2014"
   ]
  },
  {
   "cell_type": "code",
   "execution_count": 17,
   "id": "47e7d6ab",
   "metadata": {},
   "outputs": [
    {
     "data": {
      "text/plain": [
       "Area Code      -0.000209\n",
       "Item Code      -0.024683\n",
       "Element Code    1.000000\n",
       "Y2014           0.024457\n",
       "Y2015           0.023889\n",
       "Y2016           0.023444\n",
       "Y2017           0.024254\n",
       "Y2018           0.024279\n",
       "Name: Element Code, dtype: float64"
      ]
     },
     "execution_count": 17,
     "metadata": {},
     "output_type": "execute_result"
    }
   ],
   "source": [
    "food_data.corr()['Element Code']"
   ]
  },
  {
   "cell_type": "markdown",
   "id": "f9006043",
   "metadata": {},
   "source": [
    "##### Option 3 is correct"
   ]
  },
  {
   "cell_type": "markdown",
   "id": "db4c44c0",
   "metadata": {},
   "source": [
    "15. Which of the following dataframe methods can be used to access elements across rows and columns?\n",
    "\n",
    "Options\n",
    "df.iloc( )\n",
    "\n",
    "df.loc( )\n",
    "\n",
    "df.loc( : )\n",
    "\n",
    "c and d\n",
    "\n",
    "df.iloc[ : ] "
   ]
  },
  {
   "cell_type": "markdown",
   "id": "b7679188",
   "metadata": {},
   "source": [
    "##### Option 5 is correct"
   ]
  },
  {
   "cell_type": "markdown",
   "id": "b707e022",
   "metadata": {},
   "source": [
    "16. What is the total number and percentage of missing data in 2014 to 3 decimal places?\n",
    "\n",
    "Options\n",
    "1506 and 2.477%\n",
    "\n",
    "1598 and 2.617%\n",
    "\n",
    "1538 and 2.522%\n",
    "\n",
    "1473 and 2.152 %\n",
    "\n",
    "1589 and 2.607%"
   ]
  },
  {
   "cell_type": "code",
   "execution_count": 18,
   "id": "9b90a520",
   "metadata": {},
   "outputs": [
    {
     "data": {
      "text/plain": [
       "Area Code          0\n",
       "Area               0\n",
       "Item Code          0\n",
       "Item               0\n",
       "Element Code       0\n",
       "Element            0\n",
       "Unit               0\n",
       "Y2014           1589\n",
       "Y2015           1548\n",
       "Y2016           1535\n",
       "Y2017           1506\n",
       "Y2018           1436\n",
       "dtype: int64"
      ]
     },
     "execution_count": 18,
     "metadata": {},
     "output_type": "execute_result"
    }
   ],
   "source": [
    "food_data.isnull().sum()"
   ]
  },
  {
   "cell_type": "code",
   "execution_count": 19,
   "id": "96b490c6",
   "metadata": {},
   "outputs": [
    {
     "data": {
      "text/plain": [
       "2.6073544131401474"
      ]
     },
     "execution_count": 19,
     "metadata": {},
     "output_type": "execute_result"
    }
   ],
   "source": [
    "food_data.isnull().sum().loc['Y2014'] / food_data.shape[0] * 100"
   ]
  },
  {
   "cell_type": "markdown",
   "id": "f4b8c7a1",
   "metadata": {},
   "source": [
    "##### Option 5 is correct"
   ]
  },
  {
   "cell_type": "markdown",
   "id": "e098657d",
   "metadata": {},
   "source": [
    "17. Given the following numpy array \n",
    "\n",
    "array  = ([[94, 89, 63],\n",
    "\n",
    "             [93, 92, 48],\n",
    "\n",
    "             [92, 94, 56]])\n",
    "\n",
    "How would you select  the elements in bold and italics from the array?\n",
    "\n",
    "Options\n",
    "array[ : 1, 1 : ]\n",
    "\n",
    "array[ 1 : , : ]\n",
    "\n",
    "array[ : 1, 1 :] \n",
    "\n",
    "array[ : 2, 0 : ]\n",
    "\n",
    "array[ : 2, 1 : ] "
   ]
  },
  {
   "cell_type": "code",
   "execution_count": 20,
   "id": "c8cfc367",
   "metadata": {},
   "outputs": [
    {
     "data": {
      "text/plain": [
       "array([[94, 89, 63],\n",
       "       [93, 92, 48],\n",
       "       [92, 94, 56]])"
      ]
     },
     "execution_count": 20,
     "metadata": {},
     "output_type": "execute_result"
    }
   ],
   "source": [
    "array = np.array([[94, 89, 63],\n",
    "                  [93, 92, 48],\n",
    "                  [92, 94, 56]])\n",
    "array"
   ]
  },
  {
   "cell_type": "code",
   "execution_count": 21,
   "id": "2d133f61",
   "metadata": {},
   "outputs": [
    {
     "data": {
      "text/plain": [
       "array([[89, 63],\n",
       "       [92, 48]])"
      ]
     },
     "execution_count": 21,
     "metadata": {},
     "output_type": "execute_result"
    }
   ],
   "source": [
    "array[:2, 1:]"
   ]
  },
  {
   "cell_type": "markdown",
   "id": "f5d219f3",
   "metadata": {},
   "source": [
    "##### Option 5 is correct"
   ]
  },
  {
   "cell_type": "markdown",
   "id": "757a14d0",
   "metadata": {},
   "source": [
    "18. Which of these python data structures is unorderly?\n",
    "\n",
    "Options\n",
    "Tuple\n",
    "\n",
    "List\n",
    "\n",
    "Dictionary\n",
    "\n",
    "Set"
   ]
  },
  {
   "cell_type": "markdown",
   "id": "0fe72c6b",
   "metadata": {},
   "source": [
    "##### Option 4 is correct"
   ]
  },
  {
   "cell_type": "markdown",
   "id": "559489f2",
   "metadata": {},
   "source": [
    "19. How would you check for the number of rows and columns in a pandas DataFrame named df?\n",
    "\n",
    "Options\n",
    "df.shape\n",
    "\n",
    "df.shape( )\n",
    "\n",
    "pd.length(df)\n",
    "\n",
    " len(df)"
   ]
  },
  {
   "cell_type": "code",
   "execution_count": 22,
   "id": "51e41e92",
   "metadata": {},
   "outputs": [
    {
     "data": {
      "text/plain": [
       "(60943, 12)"
      ]
     },
     "execution_count": 22,
     "metadata": {},
     "output_type": "execute_result"
    }
   ],
   "source": [
    "food_data.shape"
   ]
  },
  {
   "cell_type": "markdown",
   "id": "836dbfe5",
   "metadata": {},
   "source": [
    "##### Option 1 is correct"
   ]
  },
  {
   "cell_type": "markdown",
   "id": "0490b40f",
   "metadata": {},
   "source": [
    "20. \n",
    "What is the total number of unique countries in the dataset?\n",
    "\n",
    "Options\n",
    "50\n",
    "\n",
    "45\n",
    "\n",
    "49\n",
    "\n",
    "39"
   ]
  },
  {
   "cell_type": "code",
   "execution_count": 23,
   "id": "ae3addc1",
   "metadata": {},
   "outputs": [
    {
     "data": {
      "text/plain": [
       "49"
      ]
     },
     "execution_count": 23,
     "metadata": {},
     "output_type": "execute_result"
    }
   ],
   "source": [
    "len(food_data.Area.unique())"
   ]
  },
  {
   "cell_type": "markdown",
   "id": "1ce80b26",
   "metadata": {},
   "source": [
    "##### Option 3 is correct"
   ]
  }
 ],
 "metadata": {
  "kernelspec": {
   "display_name": "Python 3 (ipykernel)",
   "language": "python",
   "name": "python3"
  },
  "language_info": {
   "codemirror_mode": {
    "name": "ipython",
    "version": 3
   },
   "file_extension": ".py",
   "mimetype": "text/x-python",
   "name": "python",
   "nbconvert_exporter": "python",
   "pygments_lexer": "ipython3",
   "version": "3.9.12"
  }
 },
 "nbformat": 4,
 "nbformat_minor": 5
}
